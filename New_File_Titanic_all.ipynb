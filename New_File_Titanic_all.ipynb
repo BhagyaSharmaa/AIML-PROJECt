{
 "cells": [
  {
   "cell_type": "code",
   "execution_count": null,
   "id": "0984a752",
   "metadata": {},
   "outputs": [],
   "source": [
    "import matplotlib.pyplot as plt \n",
    "import pandas as pd\n",
    "import numpy as np\n",
    "from sklearn.model_selection import train_test_split\n",
    "from sklearn.linear_model import LogisticRegression\n",
    "from sklearn.metrics import f1_score, recall_score, precision_score\n",
    "from sklearn.preprocessing import StandardScaler\n",
    "from sklearn.svm import SVC\n",
    "from sklearn.tree import DecisionTreeClassifier"
   ]
  },
  {
   "cell_type": "code",
   "execution_count": null,
   "id": "c2538918",
   "metadata": {},
   "outputs": [],
   "source": [
    "Dataset = pd.read_csv(\"Titanic-Dataset.csv\")"
   ]
  },
  {
   "cell_type": "code",
   "execution_count": null,
   "id": "bce3789e",
   "metadata": {},
   "outputs": [],
   "source": [
    "Dataset = Dataset.drop(columns=['PassengerId','Name','Ticket','Cabin'])"
   ]
  },
  {
   "cell_type": "code",
   "execution_count": null,
   "id": "9245d3f7",
   "metadata": {},
   "outputs": [],
   "source": [
    "med = Dataset['Age'].median()\n",
    "Dataset['Age'] = Dataset['Age'].fillna(med)\n",
    "maxi = Dataset['Embarked'].value_counts().idxmax()\n",
    "Dataset['Embarked'] = Dataset['Embarked'].fillna(maxi)"
   ]
  },
  {
   "cell_type": "code",
   "execution_count": null,
   "id": "76423c22",
   "metadata": {},
   "outputs": [],
   "source": [
    "Dataset = pd.get_dummies(Dataset, columns=['Embarked','Sex'])\n"
   ]
  },
  {
   "cell_type": "code",
   "execution_count": null,
   "id": "94244613",
   "metadata": {},
   "outputs": [],
   "source": [
    "y = pd.DataFrame(Dataset['Survived'], columns=['Survived'])\n",
    "x = Dataset.drop(columns=['Survived'])\n"
   ]
  },
  {
   "cell_type": "code",
   "execution_count": null,
   "id": "16cf0e59",
   "metadata": {},
   "outputs": [],
   "source": [
    "x_train, x_test, y_train, y_test = train_test_split(x, y, test_size=0.2, random_state=69)"
   ]
  },
  {
   "cell_type": "code",
   "execution_count": null,
   "id": "748c66c3",
   "metadata": {},
   "outputs": [],
   "source": [
    "scaler = StandardScaler()\n",
    "x_train_scaler = scaler.fit_transform(x_train)\n",
    "x_test_scaler = scaler.transform(x_test)"
   ]
  },
  {
   "cell_type": "code",
   "execution_count": null,
   "id": "18588d24",
   "metadata": {},
   "outputs": [],
   "source": [
    "model = LogisticRegression()\n",
    "model.fit(x_train, y_train)\n",
    "pred = model.predict(x_test)\n",
    "print(\"Logistic Regression Results:\")\n",
    "print(\"F1 Score:\", f1_score(y_test, pred))\n",
    "print(\"Recall Score:\", recall_score(y_test, pred))\n",
    "print(\"Precision Score:\", precision_score(y_test, pred))"
   ]
  },
  {
   "cell_type": "code",
   "execution_count": null,
   "id": "fbcf8c81",
   "metadata": {},
   "outputs": [],
   "source": [
    "svm_model = SVC(kernel='linear', random_state=69)\n",
    "svm_model.fit(x_train_scaler, y_train)\n",
    "svm_pred = svm_model.predict(x_test_scaler)\n",
    "print(\"\\nSVM Results:\")\n",
    "print(\"F1 Score:\", f1_score(y_test, svm_pred))\n",
    "print(\"Recall Score:\", recall_score(y_test, svm_pred))\n",
    "print(\"Precision Score:\", precision_score(y_test, svm_pred))"
   ]
  },
  {
   "cell_type": "code",
   "execution_count": null,
   "id": "30f112b8",
   "metadata": {},
   "outputs": [],
   "source": [
    "dt_model = DecisionTreeClassifier(random_state=69)\n",
    "dt_model.fit(x_train_scaler, y_train)\n",
    "dt_pred = dt_model.predict(x_test_scaler)\n",
    "print(\"\\nDecision Tree Results:\")\n",
    "print(\"F1 Score:\", f1_score(y_test, dt_pred))\n",
    "print(\"Recall Score:\", recall_score(y_test, dt_pred))\n",
    "print(\"Precision Score:\", precision_score(y_test, dt_pred))"
   ]
  }
 ],
 "metadata": {
  "kernelspec": {
   "display_name": "Python 3 (ipykernel)",
   "language": "python",
   "name": "python3"
  },
  "language_info": {
   "codemirror_mode": {
    "name": "ipython",
    "version": 3
   },
   "file_extension": ".py",
   "mimetype": "text/x-python",
   "name": "python",
   "nbconvert_exporter": "python",
   "pygments_lexer": "ipython3",
   "version": "3.9.12"
  }
 },
 "nbformat": 4,
 "nbformat_minor": 5
}
